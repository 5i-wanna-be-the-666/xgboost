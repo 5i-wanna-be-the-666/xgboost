{
 "cells": [
  {
   "cell_type": "code",
   "execution_count": null,
   "metadata": {},
   "outputs": [],
   "source": [
    "import xgboost as xgb\n",
    "import inspect\n",
    "\n",
    "print(inspect.getfile(xgb.train))"
   ]
  },
  {
   "cell_type": "code",
   "execution_count": null,
   "metadata": {},
   "outputs": [],
   "source": [
    "import numpy as np\n",
    "import pandas as pd\n",
    "from sklearn.model_selection import train_test_split\n",
    "from sklearn.metrics import classification_report, roc_auc_score\n",
    "from imblearn.under_sampling import RandomUnderSampler\n",
    "from xgboost import XGBClassifier\n",
    "import xgboost as xgb\n",
    "from dataset.load_dat import load_keel_dat\n",
    "from kmeans_smote import KMeansSMOTE\n",
    "from sklearn.model_selection import StratifiedKFold\n",
    "from sklearn.metrics import confusion_matrix, classification_report, roc_auc_score\n",
    "import numpy as np\n",
    "\n",
    "# **加载数据集（以 glass1 数据集为例）**\n",
    "def load_keel(name):\n",
    "    # 从 UCI 或本地加载 'glass1' 数据集\n",
    "    # 下载地址: https://sci2s.ugr.es/keel/dataset/data/classification/glass1.zip\n",
    "    # 假设数据已经保存为 glass1.csv\n",
    "    data = load_keel_dat(\"dataset/\"+name)  # 替换为实际路径\n",
    "    print(data)\n",
    "    X = data.iloc[:, :-1].values  # 特征\n",
    "    y = data.iloc[:, -1].values   # 标签\n",
    "    return X, y\n",
    "\n",
    "# 主流程（K 折）\n",
    "def main():\n",
    "    #name = \"abalone19.dat\" #scale_pos_weight=0.1\n",
    "    name = \"yeast6.dat\"\n",
    "    X, y = load_keel(name)\n",
    "    print(X.shape)\n",
    "    print(y)\n"
   ]
  },
  {
   "cell_type": "code",
   "execution_count": 1,
   "metadata": {},
   "outputs": [],
   "source": [
    "import pandas as pd\n",
    "from sdv.single_table import CTGANSynthesizer, TVAESynthesizer\n",
    "from sdv.metadata import SingleTableMetadata\n",
    "import torch\n",
    "\n",
    "def generate_synthetic_samples(X, y, class_value=1, n_samples=500, method='ctgan', epochs=300):\n",
    "\n",
    "    # 检查 GPU\n",
    "    has_cuda = torch.cuda.is_available()\n",
    "    print(f\"🚀 GPU 可用: {has_cuda}\")\n",
    "\n",
    "    # 转 DataFrame\n",
    "    if not isinstance(X, pd.DataFrame):\n",
    "        X = pd.DataFrame(X, columns=[f'f{i}' for i in range(X.shape[1])])\n",
    "    y = pd.Series(y, name='label')\n",
    "\n",
    "    # 获取目标类数据\n",
    "    real_data = X.copy()\n",
    "    real_data['label'] = y\n",
    "    real_data = real_data[real_data['label'] == class_value].reset_index(drop=True)\n",
    "\n",
    "    # Metadata\n",
    "    metadata = SingleTableMetadata()\n",
    "    metadata.detect_from_dataframe(real_data)\n",
    "\n",
    "    # 初始化模型\n",
    "    if method.lower() == 'ctgan':\n",
    "        model = CTGANSynthesizer(\n",
    "            metadata,\n",
    "            epochs=epochs,\n",
    "            verbose=True,\n",
    "            cuda=has_cuda  # ✅ 正确方式\n",
    "        )\n",
    "    elif method.lower() == 'tvae':\n",
    "        if has_cuda:\n",
    "            print(\"⚠️ TVAE 暂不支持 GPU，将使用 CPU\")\n",
    "        model = TVAESynthesizer(\n",
    "            metadata,\n",
    "            epochs=epochs,\n",
    "            verbose=True\n",
    "        )\n",
    "    else:\n",
    "        raise ValueError(\"method must be 'ctgan' or 'tvae'\")\n",
    "\n",
    "    # 拟合模型\n",
    "    print(f\"📦 开始训练 {method.upper()} 模型，共 {epochs} 轮\")\n",
    "    model.fit(real_data)\n",
    "    print(\"✅ 模型训练完成\")\n",
    "\n",
    "    # 合成数据\n",
    "    condition = {'label': class_value}\n",
    "    synthetic_data = model.sample(num_rows=n_samples, conditions=[condition])\n",
    "\n",
    "    synthetic_X = synthetic_data.drop(columns='label')\n",
    "    synthetic_y = synthetic_data['label']\n",
    "\n",
    "    return synthetic_X, synthetic_y, synthetic_data, real_data, metadata"
   ]
  },
  {
   "cell_type": "code",
   "execution_count": null,
   "metadata": {},
   "outputs": [
    {
     "name": "stdout",
     "output_type": "stream",
     "text": [
      "🚀 GPU 可用: False\n",
      "📦 开始训练 CTGAN 模型，共 200 轮\n"
     ]
    }
   ],
   "source": [
    "from sklearn.datasets import make_classification\n",
    "from sdv.evaluation.single_table import evaluate_quality\n",
    "\n",
    "# 模拟数据\n",
    "X, y = make_classification(n_samples=1000, n_features=20, weights=[0.95, 0.05], random_state=42)\n",
    "\n",
    "# 生成异常类（class 1）样本\n",
    "synthetic_X, synthetic_y, synthetic_data, real_data, metadata = generate_synthetic_samples(\n",
    "    X, y, class_value=1, n_samples=500, method='ctgan', epochs=200\n",
    ")\n",
    "\n",
    "# SDV 质量评估\n",
    "score = evaluate_quality(real_data=real_data, synthetic_data=synthetic_data, metadata=metadata)\n",
    "print(\"📊 SDV 质量评分:\", round(score, 4))"
   ]
  },
  {
   "cell_type": "code",
   "execution_count": null,
   "metadata": {},
   "outputs": [],
   "source": []
  }
 ],
 "metadata": {
  "kernelspec": {
   "display_name": "lhy_base",
   "language": "python",
   "name": "python3"
  },
  "language_info": {
   "codemirror_mode": {
    "name": "ipython",
    "version": 3
   },
   "file_extension": ".py",
   "mimetype": "text/x-python",
   "name": "python",
   "nbconvert_exporter": "python",
   "pygments_lexer": "ipython3",
   "version": "3.10.13"
  }
 },
 "nbformat": 4,
 "nbformat_minor": 2
}
